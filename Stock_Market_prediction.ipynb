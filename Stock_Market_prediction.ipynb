{
 "cells": [
  {
   "cell_type": "code",
   "execution_count": 2,
   "metadata": {
    "scrolled": true
   },
   "outputs": [
    {
     "name": "stderr",
     "output_type": "stream",
     "text": [
      "Using TensorFlow backend.\n",
      "C:\\Anaconda3\\lib\\site-packages\\sklearn\\cross_validation.py:41: DeprecationWarning: This module was deprecated in version 0.18 in favor of the model_selection module into which all the refactored classes and functions are moved. Also note that the interface of the new CV iterators are different from that of this module. This module will be removed in 0.20.\n",
      "  \"This module will be removed in 0.20.\", DeprecationWarning)\n"
     ]
    }
   ],
   "source": [
    "import numpy as np \n",
    "import pandas as pd \n",
    "\n",
    "from subprocess import check_output\n",
    "from keras.layers.core import Dense, Activation, Dropout\n",
    "from keras.layers.recurrent import LSTM\n",
    "from keras.models import Sequential\n",
    "from sklearn.cross_validation import  train_test_split\n",
    "import time \n",
    "from sklearn.preprocessing import MinMaxScaler\n",
    "import matplotlib.pyplot as plt\n",
    "from numpy import newaxis\n",
    "from sklearn.metrics import mean_squared_error\n",
    "from math import sqrt"
   ]
  },
  {
   "cell_type": "code",
   "execution_count": 3,
   "metadata": {},
   "outputs": [
    {
     "data": {
      "text/html": [
       "<div>\n",
       "<style>\n",
       "    .dataframe thead tr:only-child th {\n",
       "        text-align: right;\n",
       "    }\n",
       "\n",
       "    .dataframe thead th {\n",
       "        text-align: left;\n",
       "    }\n",
       "\n",
       "    .dataframe tbody tr th {\n",
       "        vertical-align: top;\n",
       "    }\n",
       "</style>\n",
       "<table border=\"1\" class=\"dataframe\">\n",
       "  <thead>\n",
       "    <tr style=\"text-align: right;\">\n",
       "      <th></th>\n",
       "      <th>date</th>\n",
       "      <th>symbol</th>\n",
       "      <th>open</th>\n",
       "      <th>close</th>\n",
       "      <th>low</th>\n",
       "      <th>high</th>\n",
       "      <th>volume</th>\n",
       "    </tr>\n",
       "  </thead>\n",
       "  <tbody>\n",
       "    <tr>\n",
       "      <th>0</th>\n",
       "      <td>2016-01-05 00:00:00</td>\n",
       "      <td>WLTW</td>\n",
       "      <td>123.430000</td>\n",
       "      <td>125.839996</td>\n",
       "      <td>122.309998</td>\n",
       "      <td>126.250000</td>\n",
       "      <td>2163600.0</td>\n",
       "    </tr>\n",
       "    <tr>\n",
       "      <th>1</th>\n",
       "      <td>2016-01-06 00:00:00</td>\n",
       "      <td>WLTW</td>\n",
       "      <td>125.239998</td>\n",
       "      <td>119.980003</td>\n",
       "      <td>119.940002</td>\n",
       "      <td>125.540001</td>\n",
       "      <td>2386400.0</td>\n",
       "    </tr>\n",
       "    <tr>\n",
       "      <th>2</th>\n",
       "      <td>2016-01-07 00:00:00</td>\n",
       "      <td>WLTW</td>\n",
       "      <td>116.379997</td>\n",
       "      <td>114.949997</td>\n",
       "      <td>114.930000</td>\n",
       "      <td>119.739998</td>\n",
       "      <td>2489500.0</td>\n",
       "    </tr>\n",
       "    <tr>\n",
       "      <th>3</th>\n",
       "      <td>2016-01-08 00:00:00</td>\n",
       "      <td>WLTW</td>\n",
       "      <td>115.480003</td>\n",
       "      <td>116.620003</td>\n",
       "      <td>113.500000</td>\n",
       "      <td>117.440002</td>\n",
       "      <td>2006300.0</td>\n",
       "    </tr>\n",
       "    <tr>\n",
       "      <th>4</th>\n",
       "      <td>2016-01-11 00:00:00</td>\n",
       "      <td>WLTW</td>\n",
       "      <td>117.010002</td>\n",
       "      <td>114.970001</td>\n",
       "      <td>114.089996</td>\n",
       "      <td>117.330002</td>\n",
       "      <td>1408600.0</td>\n",
       "    </tr>\n",
       "  </tbody>\n",
       "</table>\n",
       "</div>"
      ],
      "text/plain": [
       "                  date symbol        open       close         low        high  \\\n",
       "0  2016-01-05 00:00:00   WLTW  123.430000  125.839996  122.309998  126.250000   \n",
       "1  2016-01-06 00:00:00   WLTW  125.239998  119.980003  119.940002  125.540001   \n",
       "2  2016-01-07 00:00:00   WLTW  116.379997  114.949997  114.930000  119.739998   \n",
       "3  2016-01-08 00:00:00   WLTW  115.480003  116.620003  113.500000  117.440002   \n",
       "4  2016-01-11 00:00:00   WLTW  117.010002  114.970001  114.089996  117.330002   \n",
       "\n",
       "      volume  \n",
       "0  2163600.0  \n",
       "1  2386400.0  \n",
       "2  2489500.0  \n",
       "3  2006300.0  \n",
       "4  1408600.0  "
      ]
     },
     "execution_count": 3,
     "metadata": {},
     "output_type": "execute_result"
    }
   ],
   "source": [
    "prices_dataset =  pd.read_csv('prices.csv', header=0)\n",
    "prices_dataset.head()"
   ]
  },
  {
   "cell_type": "code",
   "execution_count": 4,
   "metadata": {
    "collapsed": true,
    "scrolled": true
   },
   "outputs": [],
   "source": [
    "dataset = prices_dataset[prices_dataset['symbol']=='GOOGL']\n",
    "dataset = dataset.close.values.astype('float32')\n",
    "dataset = dataset.reshape(1762, 1)"
   ]
  },
  {
   "cell_type": "code",
   "execution_count": 250,
   "metadata": {},
   "outputs": [
    {
     "data": {
      "text/plain": [
       "array([[ 626.75      ],\n",
       "       [ 623.98999023],\n",
       "       [ 608.26000977],\n",
       "       ..., \n",
       "       [ 804.57000732],\n",
       "       [ 802.88000488],\n",
       "       [ 792.45001221]], dtype=float32)"
      ]
     },
     "execution_count": 250,
     "metadata": {},
     "output_type": "execute_result"
    }
   ],
   "source": [
    "dataset"
   ]
  },
  {
   "cell_type": "code",
   "execution_count": 251,
   "metadata": {
    "collapsed": true
   },
   "outputs": [],
   "source": [
    "n = dataset.shape[0]\n",
    "p = dataset.shape[1]\n",
    "# dataset = dataset.values\n"
   ]
  },
  {
   "cell_type": "code",
   "execution_count": 252,
   "metadata": {},
   "outputs": [
    {
     "data": {
      "text/plain": [
       "array([[ 626.75      ],\n",
       "       [ 623.98999023],\n",
       "       [ 608.26000977],\n",
       "       ..., \n",
       "       [ 804.57000732],\n",
       "       [ 802.88000488],\n",
       "       [ 792.45001221]], dtype=float32)"
      ]
     },
     "execution_count": 252,
     "metadata": {},
     "output_type": "execute_result"
    }
   ],
   "source": [
    "dataset"
   ]
  },
  {
   "cell_type": "code",
   "execution_count": 253,
   "metadata": {},
   "outputs": [
    {
     "data": {
      "image/png": "[encoded data removed]",
      "text/plain": [
       "<matplotlib.figure.Figure at 0x10517951b38>"
      ]
     },
     "metadata": {},
     "output_type": "display_data"
    }
   ],
   "source": [
    "plt.plot(dataset)\n",
    "plt.show()"
   ]
  },
  {
   "cell_type": "code",
   "execution_count": 254,
   "metadata": {
    "collapsed": true
   },
   "outputs": [],
   "source": [
    "train_start = 0\n",
    "train_end = int(np.floor(0.8*n))\n",
    "test_start = train_end\n",
    "test_end = n\n",
    "data_train = dataset[np.arange(train_start, train_end), :]\n",
    "data_test = dataset[np.arange(test_start, test_end), :]"
   ]
  },
  {
   "cell_type": "code",
   "execution_count": 255,
   "metadata": {},
   "outputs": [
    {
     "data": {
      "text/plain": [
       "(1409, 1)"
      ]
     },
     "execution_count": 255,
     "metadata": {},
     "output_type": "execute_result"
    }
   ],
   "source": [
    "data_train.shape"
   ]
  },
  {
   "cell_type": "code",
   "execution_count": 256,
   "metadata": {},
   "outputs": [
    {
     "data": {
      "text/plain": [
       "(353, 1)"
      ]
     },
     "execution_count": 256,
     "metadata": {},
     "output_type": "execute_result"
    }
   ],
   "source": [
    "data_test.shape"
   ]
  },
  {
   "cell_type": "code",
   "execution_count": 257,
   "metadata": {
    "collapsed": true
   },
   "outputs": [],
   "source": [
    "# Scale data\n",
    "from sklearn.preprocessing import MinMaxScaler\n",
    "scaler = MinMaxScaler()\n",
    "scaler.fit(data_train)\n",
    "data_train = scaler.transform(data_train)\n",
    "data_test = scaler.transform(data_test)\n",
    "# Build X and y\n",
    "X_train = data_train[:]\n",
    "y_train = data_train[:, 0]\n",
    "X_test = data_test[:]\n",
    "y_test = data_test[:, 0]"
   ]
  },
  {
   "cell_type": "code",
   "execution_count": 258,
   "metadata": {},
   "outputs": [
    {
     "data": {
      "text/plain": [
       "(1409, 1)"
      ]
     },
     "execution_count": 258,
     "metadata": {},
     "output_type": "execute_result"
    }
   ],
   "source": [
    "X_train.shape\n",
    "#y_test.shape"
   ]
  },
  {
   "cell_type": "code",
   "execution_count": 259,
   "metadata": {},
   "outputs": [
    {
     "data": {
      "text/plain": [
       "(1409,)"
      ]
     },
     "execution_count": 259,
     "metadata": {},
     "output_type": "execute_result"
    }
   ],
   "source": [
    "y_train.shape"
   ]
  },
  {
   "cell_type": "code",
   "execution_count": 260,
   "metadata": {},
   "outputs": [
    {
     "data": {
      "text/plain": [
       "(353, 1)"
      ]
     },
     "execution_count": 260,
     "metadata": {},
     "output_type": "execute_result"
    }
   ],
   "source": [
    "X_test.shape"
   ]
  },
  {
   "cell_type": "code",
   "execution_count": 261,
   "metadata": {},
   "outputs": [
    {
     "data": {
      "text/plain": [
       "(353,)"
      ]
     },
     "execution_count": 261,
     "metadata": {},
     "output_type": "execute_result"
    }
   ],
   "source": [
    "y_test.shape"
   ]
  },
  {
   "cell_type": "code",
   "execution_count": 262,
   "metadata": {
    "collapsed": true
   },
   "outputs": [],
   "source": [
    "X_train = np.reshape(X_train, (X_train.shape[0], 1, X_train.shape[1]))\n",
    "X_test = np.reshape(X_test, (X_test.shape[0], 1, X_test.shape[1]))"
   ]
  },
  {
   "cell_type": "code",
   "execution_count": null,
   "metadata": {
    "collapsed": true
   },
   "outputs": [],
   "source": []
  },
  {
   "cell_type": "code",
   "execution_count": 263,
   "metadata": {},
   "outputs": [
    {
     "data": {
      "text/plain": [
       "(1409, 1, 1)"
      ]
     },
     "execution_count": 263,
     "metadata": {},
     "output_type": "execute_result"
    }
   ],
   "source": [
    "X_train.shape\n",
    "#layers=['1409','1','4']"
   ]
  },
  {
   "cell_type": "code",
   "execution_count": 264,
   "metadata": {
    "collapsed": true
   },
   "outputs": [],
   "source": [
    "from keras import optimizers"
   ]
  },
  {
   "cell_type": "code",
   "execution_count": 265,
   "metadata": {
    "collapsed": true
   },
   "outputs": [],
   "source": [
    "model = Sequential()\n",
    "model.add(LSTM(128, input_shape=(1, 1), return_sequences=True))\n",
    "model.add(Dropout(0.2))\n",
    "model.add(LSTM(64, input_shape=(1, 1), return_sequences=False))\n",
    "model.add(Dropout(0.2))\n",
    "model.add(Dense(16,activation='relu'))        \n",
    "model.add(Dense(1,activation='linear'))\n",
    "model.compile(loss='mse',optimizer='adam',metrics=['accuracy'])"
   ]
  },
  {
   "cell_type": "code",
   "execution_count": 266,
   "metadata": {},
   "outputs": [
    {
     "name": "stderr",
     "output_type": "stream",
     "text": [
      "C:\\Anaconda3\\lib\\site-packages\\keras\\models.py:942: UserWarning: The `nb_epoch` argument in `fit` has been renamed `epochs`.\n",
      "  warnings.warn('The `nb_epoch` argument in `fit` '\n"
     ]
    },
    {
     "name": "stdout",
     "output_type": "stream",
     "text": [
      "Train on 1268 samples, validate on 141 samples\n",
      "Epoch 1/100\n",
      "1268/1268 [==============================] - 3s 2ms/step - loss: 0.1047 - acc: 7.8864e-04 - val_loss: 0.0029 - val_acc: 0.0000e+00\n",
      "Epoch 2/100\n",
      "1268/1268 [==============================] - 0s 153us/step - loss: 0.0380 - acc: 7.8864e-04 - val_loss: 0.0307 - val_acc: 0.0000e+00\n",
      "Epoch 3/100\n",
      "1268/1268 [==============================] - 0s 154us/step - loss: 0.0224 - acc: 0.0016 - val_loss: 0.0067 - val_acc: 0.0000e+00\n",
      "Epoch 4/100\n",
      "1268/1268 [==============================] - 0s 152us/step - loss: 0.0093 - acc: 0.0016 - val_loss: 0.0029 - val_acc: 0.0000e+00\n",
      "Epoch 5/100\n",
      "1268/1268 [==============================] - 0s 148us/step - loss: 0.0015 - acc: 0.0016 - val_loss: 2.5972e-05 - val_acc: 0.0000e+00\n",
      "Epoch 6/100\n",
      "1268/1268 [==============================] - 0s 157us/step - loss: 9.6034e-04 - acc: 0.0016 - val_loss: 3.0905e-05 - val_acc: 0.0000e+00\n",
      "Epoch 7/100\n",
      "1268/1268 [==============================] - 0s 150us/step - loss: 9.8848e-04 - acc: 0.0016 - val_loss: 2.7105e-05 - val_acc: 0.0000e+00\n",
      "Epoch 8/100\n",
      "1268/1268 [==============================] - 0s 152us/step - loss: 9.5697e-04 - acc: 0.0016 - val_loss: 2.8404e-05 - val_acc: 0.0000e+00\n",
      "Epoch 9/100\n",
      "1268/1268 [==============================] - 0s 153us/step - loss: 8.9975e-04 - acc: 0.0016 - val_loss: 1.7055e-05 - val_acc: 0.0000e+00\n",
      "Epoch 10/100\n",
      "1268/1268 [==============================] - 0s 155us/step - loss: 8.6092e-04 - acc: 0.0016 - val_loss: 2.5967e-05 - val_acc: 0.0000e+00\n",
      "Epoch 11/100\n",
      "1268/1268 [==============================] - 0s 146us/step - loss: 8.8470e-04 - acc: 0.0016 - val_loss: 5.8852e-05 - val_acc: 0.0000e+00\n",
      "Epoch 12/100\n",
      "1268/1268 [==============================] - 0s 155us/step - loss: 7.6181e-04 - acc: 0.0016 - val_loss: 6.8921e-06 - val_acc: 0.0000e+00\n",
      "Epoch 13/100\n",
      "1268/1268 [==============================] - ETA: 0s - loss: 7.9820e-04 - acc: 0.0017   - 0s 156us/step - loss: 8.0470e-04 - acc: 0.0016 - val_loss: 1.0638e-05 - val_acc: 0.0000e+00\n",
      "Epoch 14/100\n",
      "1268/1268 [==============================] - 0s 156us/step - loss: 8.3503e-04 - acc: 0.0016 - val_loss: 2.7316e-06 - val_acc: 0.0000e+00\n",
      "Epoch 15/100\n",
      "1268/1268 [==============================] - 0s 153us/step - loss: 7.8558e-04 - acc: 0.0016 - val_loss: 2.5222e-07 - val_acc: 0.0000e+00\n",
      "Epoch 16/100\n",
      "1268/1268 [==============================] - 0s 151us/step - loss: 6.9019e-04 - acc: 0.0016 - val_loss: 1.3031e-06 - val_acc: 0.0000e+00\n",
      "Epoch 17/100\n",
      "1268/1268 [==============================] - 0s 148us/step - loss: 7.5715e-04 - acc: 0.0016 - val_loss: 1.2491e-05 - val_acc: 0.0000e+00\n",
      "Epoch 18/100\n",
      "1268/1268 [==============================] - 0s 149us/step - loss: 6.4277e-04 - acc: 0.0016 - val_loss: 4.7082e-06 - val_acc: 0.0000e+00\n",
      "Epoch 19/100\n",
      "1268/1268 [==============================] - 0s 155us/step - loss: 6.4081e-04 - acc: 0.0016 - val_loss: 4.8981e-07 - val_acc: 0.0000e+00\n",
      "Epoch 20/100\n",
      "1268/1268 [==============================] - ETA: 0s - loss: 6.6376e-04 - acc: 8.2237e-0 - 0s 155us/step - loss: 6.5964e-04 - acc: 0.0016 - val_loss: 1.6047e-05 - val_acc: 0.0000e+00\n",
      "Epoch 21/100\n",
      "1268/1268 [==============================] - 0s 157us/step - loss: 7.1831e-04 - acc: 0.0016 - val_loss: 3.6048e-06 - val_acc: 0.0000e+00\n",
      "Epoch 22/100\n",
      "1268/1268 [==============================] - 0s 152us/step - loss: 7.1247e-04 - acc: 0.0016 - val_loss: 8.4570e-06 - val_acc: 0.0000e+00\n",
      "Epoch 23/100\n",
      "1268/1268 [==============================] - 0s 152us/step - loss: 7.0564e-04 - acc: 0.0016 - val_loss: 1.1355e-05 - val_acc: 0.0000e+00\n",
      "Epoch 24/100\n",
      "1268/1268 [==============================] - 0s 142us/step - loss: 7.2302e-04 - acc: 0.0016 - val_loss: 4.7924e-06 - val_acc: 0.0000e+00\n",
      "Epoch 25/100\n",
      "1268/1268 [==============================] - 0s 150us/step - loss: 6.1803e-04 - acc: 0.0016 - val_loss: 5.0161e-05 - val_acc: 0.0000e+00\n",
      "Epoch 26/100\n",
      "1268/1268 [==============================] - 0s 154us/step - loss: 6.8599e-04 - acc: 0.0016 - val_loss: 1.2869e-06 - val_acc: 0.0000e+00\n",
      "Epoch 27/100\n",
      "1268/1268 [==============================] - 0s 155us/step - loss: 5.9614e-04 - acc: 0.0016 - val_loss: 2.3314e-07 - val_acc: 0.0000e+00\n",
      "Epoch 28/100\n",
      "1268/1268 [==============================] - 0s 146us/step - loss: 6.5987e-04 - acc: 0.0016 - val_loss: 1.7300e-05 - val_acc: 0.0000e+00\n",
      "Epoch 29/100\n",
      "1268/1268 [==============================] - 0s 146us/step - loss: 6.6633e-04 - acc: 0.0016 - val_loss: 2.6418e-06 - val_acc: 0.0000e+00\n",
      "Epoch 30/100\n",
      "1268/1268 [==============================] - 0s 150us/step - loss: 6.2426e-04 - acc: 0.0016 - val_loss: 2.3689e-05 - val_acc: 0.0000e+00\n",
      "Epoch 31/100\n",
      "1268/1268 [==============================] - 0s 145us/step - loss: 5.9397e-04 - acc: 0.0016 - val_loss: 3.4828e-06 - val_acc: 0.0000e+00\n",
      "Epoch 32/100\n",
      "1268/1268 [==============================] - 0s 153us/step - loss: 4.6765e-04 - acc: 0.0016 - val_loss: 1.5352e-06 - val_acc: 0.0000e+00\n",
      "Epoch 33/100\n",
      "1268/1268 [==============================] - 0s 152us/step - loss: 5.3196e-04 - acc: 0.0016 - val_loss: 5.2851e-07 - val_acc: 0.0000e+00\n",
      "Epoch 34/100\n",
      "1268/1268 [==============================] - 0s 150us/step - loss: 5.6086e-04 - acc: 0.0016 - val_loss: 2.6831e-05 - val_acc: 0.0000e+00\n",
      "Epoch 35/100\n",
      "1268/1268 [==============================] - 0s 142us/step - loss: 5.4725e-04 - acc: 0.0016 - val_loss: 4.8299e-06 - val_acc: 0.0000e+00\n",
      "Epoch 36/100\n",
      "1268/1268 [==============================] - 0s 150us/step - loss: 5.6474e-04 - acc: 0.0016 - val_loss: 2.5055e-05 - val_acc: 0.0000e+00\n",
      "Epoch 37/100\n",
      "1268/1268 [==============================] - 0s 144us/step - loss: 5.6102e-04 - acc: 0.0016 - val_loss: 1.8558e-05 - val_acc: 0.0000e+00\n",
      "Epoch 38/100\n",
      "1268/1268 [==============================] - 0s 150us/step - loss: 4.8449e-04 - acc: 0.0016 - val_loss: 2.0275e-06 - val_acc: 0.0000e+00\n",
      "Epoch 39/100\n",
      "1268/1268 [==============================] - 0s 150us/step - loss: 5.0756e-04 - acc: 0.0016 - val_loss: 9.0876e-07 - val_acc: 0.0000e+00\n",
      "Epoch 40/100\n",
      "1268/1268 [==============================] - 0s 151us/step - loss: 5.1766e-04 - acc: 0.0016 - val_loss: 7.1824e-07 - val_acc: 0.0000e+00\n",
      "Epoch 41/100\n",
      "1268/1268 [==============================] - 0s 148us/step - loss: 4.2573e-04 - acc: 0.0016 - val_loss: 1.5203e-05 - val_acc: 0.0000e+00\n",
      "Epoch 42/100\n",
      "1268/1268 [==============================] - 0s 155us/step - loss: 5.1021e-04 - acc: 0.0016 - val_loss: 1.1579e-06 - val_acc: 0.0000e+00\n",
      "Epoch 43/100\n",
      "1268/1268 [==============================] - 0s 153us/step - loss: 4.6747e-04 - acc: 0.0016 - val_loss: 3.2441e-06 - val_acc: 0.0000e+00\n",
      "Epoch 44/100\n",
      "1268/1268 [==============================] - 0s 145us/step - loss: 5.1605e-04 - acc: 0.0016 - val_loss: 2.6003e-07 - val_acc: 0.0000e+00\n",
      "Epoch 45/100\n",
      "1268/1268 [==============================] - 0s 149us/step - loss: 4.8288e-04 - acc: 0.0016 - val_loss: 4.9146e-05 - val_acc: 0.0000e+00\n",
      "Epoch 46/100\n",
      "1268/1268 [==============================] - 0s 153us/step - loss: 4.1397e-04 - acc: 0.0016 - val_loss: 2.2354e-06 - val_acc: 0.0000e+00\n",
      "Epoch 47/100\n",
      "1268/1268 [==============================] - 0s 146us/step - loss: 4.0224e-04 - acc: 0.0016 - val_loss: 5.8289e-05 - val_acc: 0.0000e+00\n",
      "Epoch 48/100\n",
      "1268/1268 [==============================] - 0s 150us/step - loss: 5.8291e-04 - acc: 0.0016 - val_loss: 3.1554e-05 - val_acc: 0.0000e+00\n",
      "Epoch 49/100\n",
      "1268/1268 [==============================] - 0s 152us/step - loss: 4.7289e-04 - acc: 0.0016 - val_loss: 1.1383e-06 - val_acc: 0.0000e+00\n",
      "Epoch 50/100\n",
      "1268/1268 [==============================] - 0s 150us/step - loss: 4.9195e-04 - acc: 0.0016 - val_loss: 6.7845e-06 - val_acc: 0.0000e+00\n",
      "Epoch 51/100\n",
      "1268/1268 [==============================] - 0s 155us/step - loss: 4.3100e-04 - acc: 0.0016 - val_loss: 2.6195e-05 - val_acc: 0.0000e+00\n",
      "Epoch 52/100\n",
      "1268/1268 [==============================] - 0s 147us/step - loss: 4.6265e-04 - acc: 0.0016 - val_loss: 4.9066e-05 - val_acc: 0.0000e+00\n",
      "Epoch 53/100\n",
      "1268/1268 [==============================] - 0s 148us/step - loss: 4.8648e-04 - acc: 0.0016 - val_loss: 2.3399e-06 - val_acc: 0.0000e+00\n",
      "Epoch 54/100\n",
      "1268/1268 [==============================] - 0s 145us/step - loss: 4.9396e-04 - acc: 0.0016 - val_loss: 5.1890e-05 - val_acc: 0.0000e+00\n"
     ]
    },
    {
     "name": "stdout",
     "output_type": "stream",
     "text": [
      "Epoch 55/100\n",
      "1268/1268 [==============================] - 0s 145us/step - loss: 4.0804e-04 - acc: 0.0016 - val_loss: 1.3631e-05 - val_acc: 0.0000e+00\n",
      "Epoch 56/100\n",
      "1268/1268 [==============================] - 0s 147us/step - loss: 5.1193e-04 - acc: 0.0016 - val_loss: 8.3292e-06 - val_acc: 0.0000e+00\n",
      "Epoch 57/100\n",
      "1268/1268 [==============================] - 0s 142us/step - loss: 3.8846e-04 - acc: 0.0016 - val_loss: 1.3233e-07 - val_acc: 0.0000e+00\n",
      "Epoch 58/100\n",
      "1268/1268 [==============================] - 0s 147us/step - loss: 4.1548e-04 - acc: 0.0016 - val_loss: 1.0588e-06 - val_acc: 0.0000e+00\n",
      "Epoch 59/100\n",
      "1268/1268 [==============================] - 0s 146us/step - loss: 4.1683e-04 - acc: 0.0016 - val_loss: 1.3331e-05 - val_acc: 0.0000e+00\n",
      "Epoch 60/100\n",
      "1268/1268 [==============================] - 0s 146us/step - loss: 4.4862e-04 - acc: 0.0016 - val_loss: 3.2477e-06 - val_acc: 0.0000e+00\n",
      "Epoch 61/100\n",
      "1268/1268 [==============================] - 0s 145us/step - loss: 4.2209e-04 - acc: 0.0016 - val_loss: 3.2293e-06 - val_acc: 0.0000e+00\n",
      "Epoch 62/100\n",
      "1268/1268 [==============================] - 0s 146us/step - loss: 4.3868e-04 - acc: 0.0016 - val_loss: 1.8546e-05 - val_acc: 0.0000e+00\n",
      "Epoch 63/100\n",
      "1268/1268 [==============================] - 0s 152us/step - loss: 4.2574e-04 - acc: 0.0016 - val_loss: 8.0602e-06 - val_acc: 0.0000e+00\n",
      "Epoch 64/100\n",
      "1268/1268 [==============================] - 0s 150us/step - loss: 3.5051e-04 - acc: 0.0016 - val_loss: 1.8660e-05 - val_acc: 0.0000e+00\n",
      "Epoch 65/100\n",
      "1268/1268 [==============================] - 0s 146us/step - loss: 4.2363e-04 - acc: 0.0016 - val_loss: 8.7202e-06 - val_acc: 0.0000e+00\n",
      "Epoch 66/100\n",
      "1268/1268 [==============================] - 0s 148us/step - loss: 3.7462e-04 - acc: 0.0016 - val_loss: 2.8313e-05 - val_acc: 0.0000e+00\n",
      "Epoch 67/100\n",
      "1268/1268 [==============================] - 0s 147us/step - loss: 4.4019e-04 - acc: 0.0016 - val_loss: 2.8573e-06 - val_acc: 0.0000e+00\n",
      "Epoch 68/100\n",
      "1268/1268 [==============================] - 0s 148us/step - loss: 3.2473e-04 - acc: 0.0016 - val_loss: 4.6875e-06 - val_acc: 0.0000e+00\n",
      "Epoch 69/100\n",
      "1268/1268 [==============================] - 0s 144us/step - loss: 4.0333e-04 - acc: 0.0016 - val_loss: 4.0772e-06 - val_acc: 0.0000e+00\n",
      "Epoch 70/100\n",
      "1268/1268 [==============================] - 0s 149us/step - loss: 3.7891e-04 - acc: 0.0016 - val_loss: 1.9002e-05 - val_acc: 0.0000e+00\n",
      "Epoch 71/100\n",
      "1268/1268 [==============================] - 0s 146us/step - loss: 4.2615e-04 - acc: 0.0016 - val_loss: 4.1485e-06 - val_acc: 0.0000e+00\n",
      "Epoch 72/100\n",
      "1268/1268 [==============================] - 0s 149us/step - loss: 4.2293e-04 - acc: 0.0016 - val_loss: 4.6316e-05 - val_acc: 0.0000e+00\n",
      "Epoch 73/100\n",
      "1268/1268 [==============================] - 0s 150us/step - loss: 4.1040e-04 - acc: 0.0016 - val_loss: 5.2946e-06 - val_acc: 0.0000e+00\n",
      "Epoch 74/100\n",
      "1268/1268 [==============================] - 0s 148us/step - loss: 3.9222e-04 - acc: 0.0016 - val_loss: 5.9577e-07 - val_acc: 0.0000e+00\n",
      "Epoch 75/100\n",
      "1268/1268 [==============================] - 0s 151us/step - loss: 3.4771e-04 - acc: 0.0016 - val_loss: 1.7229e-05 - val_acc: 0.0000e+00\n",
      "Epoch 76/100\n",
      "1268/1268 [==============================] - 0s 148us/step - loss: 4.4284e-04 - acc: 0.0016 - val_loss: 2.1733e-05 - val_acc: 0.0000e+00\n",
      "Epoch 77/100\n",
      "1268/1268 [==============================] - 0s 150us/step - loss: 3.1883e-04 - acc: 0.0016 - val_loss: 1.9950e-06 - val_acc: 0.0000e+00\n",
      "Epoch 78/100\n",
      "1268/1268 [==============================] - 0s 152us/step - loss: 3.3456e-04 - acc: 0.0016 - val_loss: 2.1798e-07 - val_acc: 0.0000e+00\n",
      "Epoch 79/100\n",
      "1268/1268 [==============================] - 0s 152us/step - loss: 3.8051e-04 - acc: 0.0016 - val_loss: 1.2816e-05 - val_acc: 0.0000e+00\n",
      "Epoch 80/100\n",
      "1268/1268 [==============================] - 0s 149us/step - loss: 4.6188e-04 - acc: 0.0016 - val_loss: 1.7360e-05 - val_acc: 0.0000e+00\n",
      "Epoch 81/100\n",
      "1268/1268 [==============================] - 0s 147us/step - loss: 3.1009e-04 - acc: 0.0016 - val_loss: 1.1989e-06 - val_acc: 0.0000e+00\n",
      "Epoch 82/100\n",
      "1268/1268 [==============================] - 0s 149us/step - loss: 3.7363e-04 - acc: 0.0016 - val_loss: 1.6070e-05 - val_acc: 0.0000e+00\n",
      "Epoch 83/100\n",
      "1268/1268 [==============================] - 0s 148us/step - loss: 3.2444e-04 - acc: 0.0016 - val_loss: 2.9782e-06 - val_acc: 0.0000e+00\n",
      "Epoch 84/100\n",
      "1268/1268 [==============================] - 0s 149us/step - loss: 3.9807e-04 - acc: 0.0016 - val_loss: 6.0799e-07 - val_acc: 0.0000e+00\n",
      "Epoch 85/100\n",
      "1268/1268 [==============================] - 0s 156us/step - loss: 3.2684e-04 - acc: 0.0016 - val_loss: 4.6557e-06 - val_acc: 0.0000e+00\n",
      "Epoch 86/100\n",
      "1268/1268 [==============================] - 0s 150us/step - loss: 3.4269e-04 - acc: 0.0016 - val_loss: 1.1207e-05 - val_acc: 0.0000e+00\n",
      "Epoch 87/100\n",
      "1268/1268 [==============================] - 0s 150us/step - loss: 3.8509e-04 - acc: 0.0016 - val_loss: 5.9025e-07 - val_acc: 0.0000e+00\n",
      "Epoch 88/100\n",
      "1268/1268 [==============================] - 0s 154us/step - loss: 3.3796e-04 - acc: 0.0016 - val_loss: 8.5560e-05 - val_acc: 0.0000e+00\n",
      "Epoch 89/100\n",
      "1268/1268 [==============================] - 0s 158us/step - loss: 3.4637e-04 - acc: 0.0016 - val_loss: 1.5619e-06 - val_acc: 0.0000e+00\n",
      "Epoch 90/100\n",
      "1268/1268 [==============================] - 0s 146us/step - loss: 3.4311e-04 - acc: 0.0016 - val_loss: 5.2364e-06 - val_acc: 0.0000e+00\n",
      "Epoch 91/100\n",
      "1268/1268 [==============================] - 0s 151us/step - loss: 3.3977e-04 - acc: 0.0016 - val_loss: 6.2511e-06 - val_acc: 0.0000e+00\n",
      "Epoch 92/100\n",
      "1268/1268 [==============================] - 0s 152us/step - loss: 3.0514e-04 - acc: 0.0016 - val_loss: 3.3703e-06 - val_acc: 0.0000e+00\n",
      "Epoch 93/100\n",
      "1268/1268 [==============================] - 0s 158us/step - loss: 3.4419e-04 - acc: 0.0016 - val_loss: 3.7829e-06 - val_acc: 0.0000e+00\n",
      "Epoch 94/100\n",
      "1268/1268 [==============================] - 0s 148us/step - loss: 3.6433e-04 - acc: 0.0016 - val_loss: 3.8207e-06 - val_acc: 0.0000e+00\n",
      "Epoch 95/100\n",
      "1268/1268 [==============================] - 0s 149us/step - loss: 3.3267e-04 - acc: 0.0016 - val_loss: 4.9477e-07 - val_acc: 0.0000e+00\n",
      "Epoch 96/100\n",
      "1268/1268 [==============================] - 0s 149us/step - loss: 3.4466e-04 - acc: 0.0016 - val_loss: 3.8598e-06 - val_acc: 0.0000e+00\n",
      "Epoch 97/100\n",
      "1268/1268 [==============================] - 0s 148us/step - loss: 3.3482e-04 - acc: 0.0016 - val_loss: 1.2516e-06 - val_acc: 0.0000e+00\n",
      "Epoch 98/100\n",
      "1268/1268 [==============================] - 0s 149us/step - loss: 3.2358e-04 - acc: 0.0016 - val_loss: 4.6701e-06 - val_acc: 0.0000e+00\n",
      "Epoch 99/100\n",
      "1268/1268 [==============================] - 0s 150us/step - loss: 3.6106e-04 - acc: 0.0016 - val_loss: 8.7010e-07 - val_acc: 0.0000e+00\n",
      "Epoch 100/100\n",
      "1268/1268 [==============================] - 0s 151us/step - loss: 3.1067e-04 - acc: 0.0016 - val_loss: 1.0868e-06 - val_acc: 0.0000e+00\n"
     ]
    },
    {
     "data": {
      "text/plain": [
       "<keras.callbacks.History at 0x1050f95b390>"
      ]
     },
     "execution_count": 266,
     "metadata": {},
     "output_type": "execute_result"
    }
   ],
   "source": [
    "model.fit(\n",
    "    X_train,\n",
    "    y_train,\n",
    "    batch_size=64,\n",
    "    nb_epoch=100,\n",
    "    validation_split=0.1)"
   ]
  },
  {
   "cell_type": "code",
   "execution_count": 267,
   "metadata": {
    "scrolled": true
   },
   "outputs": [
    {
     "name": "stdout",
     "output_type": "stream",
     "text": [
      "353/353 [==============================] - 0s 92us/step\n",
      "MSE:  6.25966022559e-06\n"
     ]
    }
   ],
   "source": [
    "\n",
    "scores = model.evaluate(X_test, y_test, verbose=1) \n",
    "print(\"MSE: \", (scores[0]))"
   ]
  },
  {
   "cell_type": "code",
   "execution_count": 268,
   "metadata": {
    "collapsed": true
   },
   "outputs": [],
   "source": [
    "p = model.predict(X_test)\n",
    "p = scaler.inverse_transform(p)"
   ]
  },
  {
   "cell_type": "code",
   "execution_count": 269,
   "metadata": {
    "collapsed": true
   },
   "outputs": [],
   "source": [
    "# plt.plot(p)\n",
    "# plt.show()"
   ]
  },
  {
   "cell_type": "code",
   "execution_count": 270,
   "metadata": {
    "collapsed": true
   },
   "outputs": [],
   "source": [
    "data_test = scaler.inverse_transform(data_test)\n",
    "y_test = data_test[:,0]"
   ]
  },
  {
   "cell_type": "code",
   "execution_count": 273,
   "metadata": {
    "scrolled": true
   },
   "outputs": [
    {
     "data": {
      "image/png": "[encoded data removed]",
      "text/plain": [
       "<matplotlib.figure.Figure at 0x1051d73f320>"
      ]
     },
     "metadata": {},
     "output_type": "display_data"
    }
   ],
   "source": [
    "import matplotlib.pyplot as plt2\n",
    "\n",
    "plt2.plot(p,color='red', label='prediction',linewidth='1.3')\n",
    "plt2.plot(y_test,color='blue', label='y_test',linewidth='0.7')\n",
    "plt2.legend(loc='upper left')\n",
    "plt2.show()"
   ]
  },
  {
   "cell_type": "code",
   "execution_count": null,
   "metadata": {
    "collapsed": true
   },
   "outputs": [],
   "source": []
  },
  {
   "cell_type": "code",
   "execution_count": null,
   "metadata": {
    "collapsed": true
   },
   "outputs": [],
   "source": []
  },
  {
   "cell_type": "code",
   "execution_count": null,
   "metadata": {
    "collapsed": true
   },
   "outputs": [],
   "source": []
  }
 ],
 "metadata": {
  "kernelspec": {
   "display_name": "Python 3",
   "language": "python",
   "name": "python3"
  },
  "language_info": {
   "codemirror_mode": {
    "name": "ipython",
    "version": 3
   },
   "file_extension": ".py",
   "mimetype": "text/x-python",
   "name": "python",
   "nbconvert_exporter": "python",
   "pygments_lexer": "ipython3",
   "version": "3.6.3"
  }
 },
 "nbformat": 4,
 "nbformat_minor": 2
}
